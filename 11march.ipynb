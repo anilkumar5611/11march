{
 "cells": [
  {
   "cell_type": "code",
   "execution_count": 1,
   "id": "ad36b25c",
   "metadata": {},
   "outputs": [],
   "source": [
    "# Q1: Difference between t-test and z-test:\n",
    "# T-Test:\n",
    "\n",
    "# Used when the sample size is small (typically less than 30).\n",
    "# Appropriate when the population standard deviation is unknown.\n",
    "# Example: Testing if there is a significant difference in the means of two groups, where each group has fewer than 30 observations.\n",
    "# Z-Test:\n",
    "\n",
    "# Used when the sample size is large (typically greater than 30).\n",
    "# Appropriate when the population standard deviation is known.\n",
    "# Example: Testing if the average height of a sample of 100 people is significantly different from the known population mean height.\n"
   ]
  },
  {
   "cell_type": "code",
   "execution_count": 2,
   "id": "dfbf40ec",
   "metadata": {},
   "outputs": [],
   "source": [
    "# Q2: One-tailed vs. Two-tailed tests:\n",
    "# One-tailed test:\n",
    "\n",
    "# Tests the hypothesis in only one direction (either greater than or less than).\n",
    "# Used when the researcher is specifically interested in one direction of an effect.\n",
    "# Example: Testing if a new drug increases reaction time (one-tailed - greater than).\n",
    "# Two-tailed test:\n",
    "\n",
    "# Tests the hypothesis in both directions (greater than and less than).\n",
    "# Used when the researcher wants to detect any significant difference, regardless of direction.\n",
    "# Example: Testing if a new teaching method has a different effect on student scores (two-tailed).\n"
   ]
  },
  {
   "cell_type": "code",
   "execution_count": null,
   "id": "2d0e9aff",
   "metadata": {},
   "outputs": [],
   "source": [
    "# Q3: Type 1 and Type 2 errors:\n",
    "# Type 1 Error:\n",
    "\n",
    "# Rejecting a true null hypothesis.\n",
    "# Example: Concluding a drug is effective when it's not, leading to unnecessary medical treatments.\n",
    "# Type 2 Error:\n",
    "\n",
    "# Failing to reject a false null hypothesis.\n",
    "# Example: Concluding a drug is not effective when it is, leading to missed opportunities for treatment.\n"
   ]
  },
  {
   "cell_type": "code",
   "execution_count": null,
   "id": "24fd1ff4",
   "metadata": {},
   "outputs": [],
   "source": [
    "# Q4: Bayes's Theorem:\n",
    "# Bayes's Theorem:\n",
    "# Describes the probability of an event based on prior knowledge of conditions that might be related to the event.\n",
    "\n",
    "# P(A∣B)= P(B)/P(B∣A)⋅P(A)\n",
    "\n",
    " \n",
    "# Example: Given the probability of a patient having a disease and the probability of a diagnostic test being correct, Bayes's Theorem can calculate the probability of the patient having the disease given a positive test result.\n",
    "# ."
   ]
  },
  {
   "cell_type": "code",
   "execution_count": null,
   "id": "0e6f8f5c",
   "metadata": {},
   "outputs": [],
   "source": [
    "# Q5: Confidence Interval:\n",
    "# Confidence Interval:\n",
    "# A range of values that is likely to contain the true parameter.\n",
    "# Calculated as: \n",
    "\n",
    "# Confidence Interval=Sample Mean±Margin of Error\n",
    "# Example: For a sample mean of 50, a standard deviation of 5, and a 95% confidence level, the confidence interval is \n",
    "# 50±1.96×5.\n"
   ]
  },
  {
   "cell_type": "code",
   "execution_count": null,
   "id": "391d5a43",
   "metadata": {},
   "outputs": [],
   "source": [
    "# Q6: Bayes' Theorem Probability Calculation:\n",
    "# Example Problem:\n",
    "# Prior probability of event A: \n",
    "\n",
    "# P(A)=0.2\n",
    "# Probability of B given A: \n",
    "\n",
    "# P(B∣A)=0.8\n",
    "# Probability of not A: \n",
    "\n",
    "# P(¬A)=1−P(A)\n",
    "# Using Bayes's Theorem to find \n",
    "\n",
    "# P(A∣¬B).\n"
   ]
  },
  {
   "cell_type": "code",
   "execution_count": null,
   "id": "f12de1e3",
   "metadata": {},
   "outputs": [],
   "source": [
    "# Q7: 95% Confidence Interval Calculation and Interpretation:\n",
    "# Example Calculation:\n",
    "# Given a sample mean of 50 and a standard deviation of 5, calculate the 95% confidence interval.\n",
    "# Confidence Interval=\n",
    "# =50±1.96×5\n"
   ]
  },
  {
   "cell_type": "code",
   "execution_count": null,
   "id": "935c6844",
   "metadata": {},
   "outputs": [],
   "source": [
    "# Q8: Margin of Error and Sample Size:\n",
    "# Margin of Error:\n",
    "# The range within which the true population parameter is likely to fall.\n",
    "# Margin of Error= \n",
    "# Sample Size.Z×Standard Deviation\n",
    "\n",
    " \n",
    "# Example: Show how a larger sample size reduces the margin of error.\n"
   ]
  },
  {
   "cell_type": "code",
   "execution_count": null,
   "id": "48cae02f",
   "metadata": {},
   "outputs": [],
   "source": [
    "# Q9: Z-Score Calculation and Interpretation:\n",
    "# Example Calculation:\n",
    "# Given a data point with a value of 75, a population mean of 70, and a population standard deviation of 5, calculate the z-sc\n",
    "# Z= σ.X−μ\n",
    "\n",
    " \n"
   ]
  },
  {
   "cell_type": "code",
   "execution_count": null,
   "id": "4950f789",
   "metadata": {},
   "outputs": [],
   "source": [
    "# Q10: Hypothesis Test for Weight Loss Drug:\n",
    "# Example Hypothesis Test:\n",
    "# Given a sample of 50 participants with an average weight loss of 6 pounds and a standard deviation of 2.5 pounds, conduct a t-test to determine if the weight loss is significant at a 95% confidence level.\n"
   ]
  },
  {
   "cell_type": "code",
   "execution_count": null,
   "id": "dd3082a9",
   "metadata": {},
   "outputs": [],
   "source": [
    "# Q11: Confidence Interval for Proportion:\n",
    "# Example Calculation:\n",
    "# In a survey of 500 people, 65% reported being satisfied with their current job. Calculate the 95% confidence interval for the true proportion.\n"
   ]
  },
  {
   "cell_type": "code",
   "execution_count": null,
   "id": "6095e916",
   "metadata": {},
   "outputs": [],
   "source": [
    "# Q12: Hypothesis Test for Teaching Methods:\n",
    "# Example Hypothesis Test:\n",
    "# Two teaching methods, Sample A and Sample B, with different mean scores and standard deviations. Conduct a t-test to determine if the teaching methods have a significant difference in student performance.\n"
   ]
  },
  {
   "cell_type": "code",
   "execution_count": null,
   "id": "764d8b25",
   "metadata": {},
   "outputs": [],
   "source": [
    "# Q13: Confidence Interval for Population Mean:\n",
    "# Example Calculation:\n",
    "# Given a population with a mean of 60, a standard deviation of 8, and a sample of 50 observations with a mean of 65, calculate the 90% confidence interval for the true population mean.\n"
   ]
  },
  {
   "cell_type": "code",
   "execution_count": null,
   "id": "8a8e4cf7",
   "metadata": {},
   "outputs": [],
   "source": [
    "# Q14: Hypothesis Test for Caffeine on Reaction Time:\n",
    "# Example Hypothesis Test:\n",
    "# Sample of 30 participants with average reaction time and standard deviation. Conduct a t-test to determine if caffeine has a significant effect on reaction time at a 90% confidence \n",
    "# level"
   ]
  }
 ],
 "metadata": {
  "kernelspec": {
   "display_name": "Python 3 (ipykernel)",
   "language": "python",
   "name": "python3"
  },
  "language_info": {
   "codemirror_mode": {
    "name": "ipython",
    "version": 3
   },
   "file_extension": ".py",
   "mimetype": "text/x-python",
   "name": "python",
   "nbconvert_exporter": "python",
   "pygments_lexer": "ipython3",
   "version": "3.11.2"
  }
 },
 "nbformat": 4,
 "nbformat_minor": 5
}
